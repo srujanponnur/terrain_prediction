{
 "cells": [
  {
   "cell_type": "code",
   "execution_count": 1,
   "metadata": {},
   "outputs": [],
   "source": [
    "import numpy as np\n",
    "import pandas as pd\n",
    "from sklearn.metrics import classification_report\n",
    "from sklearn.metrics import confusion_matrix\n",
    "import os\n",
    "from collections import Counter\n",
    "from sklearn.utils.class_weight import compute_class_weight\n",
    "import torch\n",
    "from sklearn.metrics import classification_report\n",
    "from sklearn.metrics import confusion_matrix"
   ]
  },
  {
   "cell_type": "code",
   "execution_count": 27,
   "metadata": {},
   "outputs": [
    {
     "name": "stdout",
     "output_type": "stream",
     "text": [
      "Using CPU\n"
     ]
    }
   ],
   "source": [
    "flag_cuda = torch.cuda.is_available()\n",
    "\n",
    "if not flag_cuda:\n",
    "    print('Using CPU')\n",
    "else:\n",
    "    print('Using GPU')"
   ]
  },
  {
   "cell_type": "code",
   "execution_count": 13,
   "metadata": {},
   "outputs": [],
   "source": [
    "PATH = \"./TrainingData/\"\n",
    "val_subject = 5\n",
    "test_subject = 6"
   ]
  },
  {
   "cell_type": "code",
   "execution_count": 14,
   "metadata": {},
   "outputs": [],
   "source": [
    "files = []\n",
    "for filename in os.listdir(PATH):\n",
    "    files.append(filename)\n",
    "files = sorted(files, key = lambda x: (int(x.split('_')[1]),int(x.split('_')[2]), x.split('_')[4] ))\n",
    "files_train = list(filter(lambda x: int(x.split('_')[1]) not in  [val_subject, test_subject], files))\n",
    "files_val = list(filter(lambda x: int(x.split('_')[1]) == val_subject, files))\n",
    "files_test = list(filter(lambda x: int(x.split('_')[1])== test_subject, files))"
   ]
  },
  {
   "attachments": {},
   "cell_type": "markdown",
   "metadata": {},
   "source": [
    "Calculating the value count of the window (15) to feed it in CNN"
   ]
  },
  {
   "cell_type": "code",
   "execution_count": 17,
   "metadata": {},
   "outputs": [],
   "source": [
    "def windows(d, w, t):\n",
    "  r = np.arange(len(d))\n",
    "  s = r[::t]\n",
    "  z = list(zip(s, s + w))\n",
    "  f = '{0[0]}:{0[1]}'.format\n",
    "  g = lambda t: d.iloc[t[0]:t[1]]\n",
    "  ranges = list(map(f,z))\n",
    "  return ranges, pd.concat(map(g, z), keys=map(f, z))"
   ]
  },
  {
   "cell_type": "code",
   "execution_count": 19,
   "metadata": {},
   "outputs": [],
   "source": [
    "def make_dataset(files, X, Y, flag = False):\n",
    "    for i in range(0, len(files), 4):\n",
    "        x_time, x, y_time, y = files[i: i + 4]\n",
    "        x_time_df = pd.read_csv(PATH + x_time , header=None)\n",
    "        x_df = pd.read_csv(PATH + x , header=None)\n",
    "        x_combined = pd.concat([x_time_df, x_df], axis=1, ignore_index=True)\n",
    "        x_combined = x_combined.loc[range(1,len(x_combined), 4)].reset_index()  # down sampled the frequency\n",
    "        # print(x_combined.shape)\n",
    "        y_time_df = pd.read_csv(PATH + y_time , header=None)\n",
    "        y_df = pd.read_csv(PATH + y , header=None)\n",
    "        y_combined = pd.concat([y_time_df, y_df], axis=1, ignore_index=True)\n",
    "        # print(y_combined.shape)\n",
    "        train_df = pd.concat([x_combined, y_combined], axis=1, ignore_index=True)\n",
    "        train_df = train_df.drop(columns=[0, 1, 8])  # Dropping the time stamp\n",
    "        Y.extend(train_df[9].values)\n",
    "        X.extend(train_df.drop(columns=[9]).values)\n",
    "        overlap = 15\n",
    "        if flag:\n",
    "            overlap = 30\n",
    "        ranges, windows_df = windows(train_df, 30, overlap)\n",
    "        for ran in ranges:\n",
    "            l,r = ran.split(':')\n",
    "            df_range = windows_df.iloc[int(l): int(r)]\n",
    "            if int(r) > len(windows_df):\n",
    "                break\n",
    "            y_values = df_range[9].values\n",
    "            x_values = df_range.drop(columns=[9]).values\n",
    "            X.append(x_values)\n",
    "            Y.append(Counter(list(y_values)).most_common(1)[0][0])\n",
    "    return X, Y"
   ]
  },
  {
   "cell_type": "code",
   "execution_count": 20,
   "metadata": {},
   "outputs": [
    {
     "name": "stdout",
     "output_type": "stream",
     "text": [
      "Done\n"
     ]
    }
   ],
   "source": [
    "train_X, train_y = [], []\n",
    "valid_X, valid_y = [], []\n",
    "test_X, test_y = [], []\n",
    "\n",
    "make_dataset(files_train, train_X, train_y, False)\n",
    "train_X, train_y = np.array(train_X), np.array(train_y).reshape(-1,1)\n",
    "make_dataset(files_val, valid_X, valid_y, True)\n",
    "valid_X, valid_y = np.array(valid_X),np.array(valid_y).reshape(-1,1)\n",
    "make_dataset(files_train, test_X, test_y, True)\n",
    "test_X, test_y = np.array(test_X), np.array(test_y).reshape(-1,1)\n",
    "print(\"Done splitting the data\")"
   ]
  },
  {
   "cell_type": "markdown",
   "metadata": {},
   "source": [
    "The weights that compensate for the imbalance distributions"
   ]
  },
  {
   "cell_type": "code",
   "execution_count": 21,
   "metadata": {},
   "outputs": [],
   "source": [
    "weight  = compute_class_weight(class_weight = 'balanced', classes = np.unique(train_y), y = np.array(train_y))\n",
    "weight = torch.tensor(weight)"
   ]
  },
  {
   "cell_type": "code",
   "execution_count": 22,
   "metadata": {},
   "outputs": [
    {
     "name": "stdout",
     "output_type": "stream",
     "text": [
      "Net(\n",
      "  (conv1): Conv1d(6, 16, kernel_size=(3,), stride=(1,))\n",
      "  (conv2): Conv1d(16, 32, kernel_size=(3,), stride=(1,))\n",
      "  (pool1): MaxPool1d(kernel_size=2, stride=2, padding=0, dilation=1, ceil_mode=False)\n",
      "  (conv3): Conv1d(32, 64, kernel_size=(3,), stride=(1,))\n",
      "  (conv4): Conv1d(64, 128, kernel_size=(3,), stride=(1,))\n",
      "  (pool2): MaxPool1d(kernel_size=2, stride=2, padding=0, dilation=1, ceil_mode=False)\n",
      "  (fc1): Linear(in_features=3456, out_features=120, bias=True)\n",
      "  (fc2): Linear(in_features=120, out_features=64, bias=True)\n",
      "  (fc3): Linear(in_features=64, out_features=4, bias=True)\n",
      "  (dropout1): Dropout(p=0.1, inplace=False)\n",
      ")\n"
     ]
    }
   ],
   "source": [
    "from torch.nn.modules import dropout\n",
    "import torch.nn as nn\n",
    "import torch.nn.functional as F\n",
    "import torch.optim as optim\n",
    "\n",
    "class Net(nn.Module):\n",
    "  def __init__(self):\n",
    "    super(Net, self).__init__()\n",
    "    self.conv1 = nn.Conv1d(6,16,3)\n",
    "    self.conv2 = nn.Conv1d(16,32,3)\n",
    "    self.pool1 = nn.MaxPool1d(2,2)\n",
    "    self.conv3 = nn.Conv1d(32,64,3)\n",
    "    self.conv4 = nn.Conv1d(64,128,3)\n",
    "    self.pool2 = nn.MaxPool1d(2,2)\n",
    "    self.fc1 = nn.Linear(3456, 120)\n",
    "    self.fc2 = nn.Linear(120, 64)\n",
    "    self.fc3 = nn.Linear(64,4)\n",
    "    self.dropout1 = nn.Dropout(0.1)\n",
    "\n",
    "  def forward(self, x):\n",
    "    x = F.relu(self.conv1(x))\n",
    "    x = self.pool1(F.relu(self.dropout1(self.conv2(x))))\n",
    "    x = F.relu(self.conv3(x))\n",
    "    x = self.pool2(F.relu(self.dropout1(self.conv4(x))))\n",
    "    x = x.view(-1,3456)\n",
    "    x = F.relu(self.dropout1(self.fc1(x)))\n",
    "    x = F.relu(self.dropout1(self.fc2(x)))\n",
    "    x = self.fc3(x)\n",
    "    return x\n",
    "\n",
    "model = Net()"
   ]
  },
  {
   "cell_type": "code",
   "execution_count": 25,
   "metadata": {},
   "outputs": [],
   "source": [
    "# Specifying the loss function\n",
    "criterion = nn.CrossEntropyLoss(weight = weight.float())\n",
    "\n",
    "# Specify optimizer\n",
    "optimizer = optim.Adam(model.parameters(), lr=0.001)"
   ]
  },
  {
   "cell_type": "code",
   "execution_count": 26,
   "metadata": {},
   "outputs": [],
   "source": [
    "batch_size = 64\n",
    "\n",
    "x_train_loader = torch.utils.data.DataLoader(train_X,batch_size = batch_size)\n",
    "y_train_loader = torch.utils.data.DataLoader(train_y,batch_size = batch_size)\n",
    "\n",
    "x_validation_loader = torch.utils.data.DataLoader(valid_X, batch_size = batch_size)\n",
    "y_validation_loader = torch.utils.data.DataLoader(valid_y, batch_size = batch_size)"
   ]
  },
  {
   "cell_type": "code",
   "execution_count": 28,
   "metadata": {},
   "outputs": [
    {
     "ename": "RuntimeError",
     "evalue": "Given groups=1, weight of size [16, 6, 3], expected input[1, 64, 6] to have 6 channels, but got 64 channels instead",
     "output_type": "error",
     "traceback": [
      "\u001b[1;31m---------------------------------------------------------------------------\u001b[0m",
      "\u001b[1;31mRuntimeError\u001b[0m                              Traceback (most recent call last)",
      "\u001b[1;32md:\\NCSU\\spring_2023\\Neural Networks\\terrain_prediction\\CNN_window.ipynb Cell 14\u001b[0m in \u001b[0;36m7\n\u001b[0;32m     <a href='vscode-notebook-cell:/d%3A/NCSU/spring_2023/Neural%20Networks/terrain_prediction/CNN_window.ipynb#X16sZmlsZQ%3D%3D?line=69'>70</a>\u001b[0m   \u001b[39mreturn\u001b[39;00m epochs_list, train_losslist, valid_losslist\n\u001b[0;32m     <a href='vscode-notebook-cell:/d%3A/NCSU/spring_2023/Neural%20Networks/terrain_prediction/CNN_window.ipynb#X16sZmlsZQ%3D%3D?line=71'>72</a>\u001b[0m \u001b[39m# Executing the training\u001b[39;00m\n\u001b[1;32m---> <a href='vscode-notebook-cell:/d%3A/NCSU/spring_2023/Neural%20Networks/terrain_prediction/CNN_window.ipynb#X16sZmlsZQ%3D%3D?line=72'>73</a>\u001b[0m epochs_list, train_losslist, valid_losslist \u001b[39m=\u001b[39m trainNet(model,criterion,optimizer,n_epochs,flag_cuda)\n\u001b[0;32m     <a href='vscode-notebook-cell:/d%3A/NCSU/spring_2023/Neural%20Networks/terrain_prediction/CNN_window.ipynb#X16sZmlsZQ%3D%3D?line=74'>75</a>\u001b[0m \u001b[39m# Loading the best model\u001b[39;00m\n\u001b[0;32m     <a href='vscode-notebook-cell:/d%3A/NCSU/spring_2023/Neural%20Networks/terrain_prediction/CNN_window.ipynb#X16sZmlsZQ%3D%3D?line=75'>76</a>\u001b[0m model\u001b[39m.\u001b[39mload_state_dict(torch\u001b[39m.\u001b[39mload(\u001b[39m'\u001b[39m\u001b[39mmodel.pt\u001b[39m\u001b[39m'\u001b[39m))\n",
      "\u001b[1;32md:\\NCSU\\spring_2023\\Neural Networks\\terrain_prediction\\CNN_window.ipynb Cell 14\u001b[0m in \u001b[0;36m2\n\u001b[0;32m     <a href='vscode-notebook-cell:/d%3A/NCSU/spring_2023/Neural%20Networks/terrain_prediction/CNN_window.ipynb#X16sZmlsZQ%3D%3D?line=18'>19</a>\u001b[0m     data, target \u001b[39m=\u001b[39m data\u001b[39m.\u001b[39mcuda(), target\u001b[39m.\u001b[39mcuda()\n\u001b[0;32m     <a href='vscode-notebook-cell:/d%3A/NCSU/spring_2023/Neural%20Networks/terrain_prediction/CNN_window.ipynb#X16sZmlsZQ%3D%3D?line=19'>20</a>\u001b[0m optimizer\u001b[39m.\u001b[39mzero_grad()\n\u001b[1;32m---> <a href='vscode-notebook-cell:/d%3A/NCSU/spring_2023/Neural%20Networks/terrain_prediction/CNN_window.ipynb#X16sZmlsZQ%3D%3D?line=20'>21</a>\u001b[0m output \u001b[39m=\u001b[39m model(data\u001b[39m.\u001b[39;49mfloat())\n\u001b[0;32m     <a href='vscode-notebook-cell:/d%3A/NCSU/spring_2023/Neural%20Networks/terrain_prediction/CNN_window.ipynb#X16sZmlsZQ%3D%3D?line=21'>22</a>\u001b[0m output \u001b[39m=\u001b[39m output\u001b[39m.\u001b[39mfloat()\n\u001b[0;32m     <a href='vscode-notebook-cell:/d%3A/NCSU/spring_2023/Neural%20Networks/terrain_prediction/CNN_window.ipynb#X16sZmlsZQ%3D%3D?line=22'>23</a>\u001b[0m target \u001b[39m=\u001b[39m target\u001b[39m.\u001b[39mtype(torch\u001b[39m.\u001b[39mLongTensor)\n",
      "File \u001b[1;32md:\\anaconda3\\lib\\site-packages\\torch\\nn\\modules\\module.py:1190\u001b[0m, in \u001b[0;36mModule._call_impl\u001b[1;34m(self, *input, **kwargs)\u001b[0m\n\u001b[0;32m   1186\u001b[0m \u001b[39m# If we don't have any hooks, we want to skip the rest of the logic in\u001b[39;00m\n\u001b[0;32m   1187\u001b[0m \u001b[39m# this function, and just call forward.\u001b[39;00m\n\u001b[0;32m   1188\u001b[0m \u001b[39mif\u001b[39;00m \u001b[39mnot\u001b[39;00m (\u001b[39mself\u001b[39m\u001b[39m.\u001b[39m_backward_hooks \u001b[39mor\u001b[39;00m \u001b[39mself\u001b[39m\u001b[39m.\u001b[39m_forward_hooks \u001b[39mor\u001b[39;00m \u001b[39mself\u001b[39m\u001b[39m.\u001b[39m_forward_pre_hooks \u001b[39mor\u001b[39;00m _global_backward_hooks\n\u001b[0;32m   1189\u001b[0m         \u001b[39mor\u001b[39;00m _global_forward_hooks \u001b[39mor\u001b[39;00m _global_forward_pre_hooks):\n\u001b[1;32m-> 1190\u001b[0m     \u001b[39mreturn\u001b[39;00m forward_call(\u001b[39m*\u001b[39m\u001b[39minput\u001b[39m, \u001b[39m*\u001b[39m\u001b[39m*\u001b[39mkwargs)\n\u001b[0;32m   1191\u001b[0m \u001b[39m# Do not call functions when jit is used\u001b[39;00m\n\u001b[0;32m   1192\u001b[0m full_backward_hooks, non_full_backward_hooks \u001b[39m=\u001b[39m [], []\n",
      "\u001b[1;32md:\\NCSU\\spring_2023\\Neural Networks\\terrain_prediction\\CNN_window.ipynb Cell 14\u001b[0m in \u001b[0;36m2\n\u001b[0;32m     <a href='vscode-notebook-cell:/d%3A/NCSU/spring_2023/Neural%20Networks/terrain_prediction/CNN_window.ipynb#X16sZmlsZQ%3D%3D?line=19'>20</a>\u001b[0m \u001b[39mdef\u001b[39;00m \u001b[39mforward\u001b[39m(\u001b[39mself\u001b[39m, x):\n\u001b[1;32m---> <a href='vscode-notebook-cell:/d%3A/NCSU/spring_2023/Neural%20Networks/terrain_prediction/CNN_window.ipynb#X16sZmlsZQ%3D%3D?line=20'>21</a>\u001b[0m   x \u001b[39m=\u001b[39m F\u001b[39m.\u001b[39mrelu(\u001b[39mself\u001b[39;49m\u001b[39m.\u001b[39;49mconv1(x))\n\u001b[0;32m     <a href='vscode-notebook-cell:/d%3A/NCSU/spring_2023/Neural%20Networks/terrain_prediction/CNN_window.ipynb#X16sZmlsZQ%3D%3D?line=21'>22</a>\u001b[0m   x \u001b[39m=\u001b[39m \u001b[39mself\u001b[39m\u001b[39m.\u001b[39mpool1(F\u001b[39m.\u001b[39mrelu(\u001b[39mself\u001b[39m\u001b[39m.\u001b[39mdropout1(\u001b[39mself\u001b[39m\u001b[39m.\u001b[39mconv2(x))))\n\u001b[0;32m     <a href='vscode-notebook-cell:/d%3A/NCSU/spring_2023/Neural%20Networks/terrain_prediction/CNN_window.ipynb#X16sZmlsZQ%3D%3D?line=22'>23</a>\u001b[0m   x \u001b[39m=\u001b[39m F\u001b[39m.\u001b[39mrelu(\u001b[39mself\u001b[39m\u001b[39m.\u001b[39mconv3(x))\n",
      "File \u001b[1;32md:\\anaconda3\\lib\\site-packages\\torch\\nn\\modules\\module.py:1190\u001b[0m, in \u001b[0;36mModule._call_impl\u001b[1;34m(self, *input, **kwargs)\u001b[0m\n\u001b[0;32m   1186\u001b[0m \u001b[39m# If we don't have any hooks, we want to skip the rest of the logic in\u001b[39;00m\n\u001b[0;32m   1187\u001b[0m \u001b[39m# this function, and just call forward.\u001b[39;00m\n\u001b[0;32m   1188\u001b[0m \u001b[39mif\u001b[39;00m \u001b[39mnot\u001b[39;00m (\u001b[39mself\u001b[39m\u001b[39m.\u001b[39m_backward_hooks \u001b[39mor\u001b[39;00m \u001b[39mself\u001b[39m\u001b[39m.\u001b[39m_forward_hooks \u001b[39mor\u001b[39;00m \u001b[39mself\u001b[39m\u001b[39m.\u001b[39m_forward_pre_hooks \u001b[39mor\u001b[39;00m _global_backward_hooks\n\u001b[0;32m   1189\u001b[0m         \u001b[39mor\u001b[39;00m _global_forward_hooks \u001b[39mor\u001b[39;00m _global_forward_pre_hooks):\n\u001b[1;32m-> 1190\u001b[0m     \u001b[39mreturn\u001b[39;00m forward_call(\u001b[39m*\u001b[39m\u001b[39minput\u001b[39m, \u001b[39m*\u001b[39m\u001b[39m*\u001b[39mkwargs)\n\u001b[0;32m   1191\u001b[0m \u001b[39m# Do not call functions when jit is used\u001b[39;00m\n\u001b[0;32m   1192\u001b[0m full_backward_hooks, non_full_backward_hooks \u001b[39m=\u001b[39m [], []\n",
      "File \u001b[1;32md:\\anaconda3\\lib\\site-packages\\torch\\nn\\modules\\conv.py:313\u001b[0m, in \u001b[0;36mConv1d.forward\u001b[1;34m(self, input)\u001b[0m\n\u001b[0;32m    312\u001b[0m \u001b[39mdef\u001b[39;00m \u001b[39mforward\u001b[39m(\u001b[39mself\u001b[39m, \u001b[39minput\u001b[39m: Tensor) \u001b[39m-\u001b[39m\u001b[39m>\u001b[39m Tensor:\n\u001b[1;32m--> 313\u001b[0m     \u001b[39mreturn\u001b[39;00m \u001b[39mself\u001b[39;49m\u001b[39m.\u001b[39;49m_conv_forward(\u001b[39minput\u001b[39;49m, \u001b[39mself\u001b[39;49m\u001b[39m.\u001b[39;49mweight, \u001b[39mself\u001b[39;49m\u001b[39m.\u001b[39;49mbias)\n",
      "File \u001b[1;32md:\\anaconda3\\lib\\site-packages\\torch\\nn\\modules\\conv.py:309\u001b[0m, in \u001b[0;36mConv1d._conv_forward\u001b[1;34m(self, input, weight, bias)\u001b[0m\n\u001b[0;32m    305\u001b[0m \u001b[39mif\u001b[39;00m \u001b[39mself\u001b[39m\u001b[39m.\u001b[39mpadding_mode \u001b[39m!=\u001b[39m \u001b[39m'\u001b[39m\u001b[39mzeros\u001b[39m\u001b[39m'\u001b[39m:\n\u001b[0;32m    306\u001b[0m     \u001b[39mreturn\u001b[39;00m F\u001b[39m.\u001b[39mconv1d(F\u001b[39m.\u001b[39mpad(\u001b[39minput\u001b[39m, \u001b[39mself\u001b[39m\u001b[39m.\u001b[39m_reversed_padding_repeated_twice, mode\u001b[39m=\u001b[39m\u001b[39mself\u001b[39m\u001b[39m.\u001b[39mpadding_mode),\n\u001b[0;32m    307\u001b[0m                     weight, bias, \u001b[39mself\u001b[39m\u001b[39m.\u001b[39mstride,\n\u001b[0;32m    308\u001b[0m                     _single(\u001b[39m0\u001b[39m), \u001b[39mself\u001b[39m\u001b[39m.\u001b[39mdilation, \u001b[39mself\u001b[39m\u001b[39m.\u001b[39mgroups)\n\u001b[1;32m--> 309\u001b[0m \u001b[39mreturn\u001b[39;00m F\u001b[39m.\u001b[39;49mconv1d(\u001b[39minput\u001b[39;49m, weight, bias, \u001b[39mself\u001b[39;49m\u001b[39m.\u001b[39;49mstride,\n\u001b[0;32m    310\u001b[0m                 \u001b[39mself\u001b[39;49m\u001b[39m.\u001b[39;49mpadding, \u001b[39mself\u001b[39;49m\u001b[39m.\u001b[39;49mdilation, \u001b[39mself\u001b[39;49m\u001b[39m.\u001b[39;49mgroups)\n",
      "\u001b[1;31mRuntimeError\u001b[0m: Given groups=1, weight of size [16, 6, 3], expected input[1, 64, 6] to have 6 channels, but got 64 channels instead"
     ]
    }
   ],
   "source": [
    "import matplotlib.pyplot as plt\n",
    "\n",
    "n_epochs = 10\n",
    "\n",
    "def trainNet(model,criterion,optimizer,n_epochs,flag_cuda):\n",
    "\n",
    "  train_losslist = []\n",
    "  valid_losslist = []\n",
    "  valid_loss_min = np.Inf # track change in validation loss\n",
    "  for epoch in range(1, n_epochs + 1):\n",
    "      # Keeping track of training and validation loss\n",
    "      train_loss = 0.0\n",
    "      valid_loss = 0.0\n",
    "    \n",
    "      model.train()\n",
    "\n",
    "      for data,target in zip(x_train_loader,y_train_loader):\n",
    "          if flag_cuda:\n",
    "              data, target = data.cuda(), target.cuda()\n",
    "          optimizer.zero_grad()\n",
    "          output = model(data.float())\n",
    "          output = output.float()\n",
    "          target = target.type(torch.LongTensor)\n",
    "          \n",
    "          if flag_cuda:\n",
    "            output, target = output.cuda(), target.cuda()\n",
    "\n",
    "\n",
    "          loss = criterion(output, target)\n",
    "\n",
    "          # Backward pass: compute gradient of loss with respect to parameters\n",
    "          loss.backward()\n",
    "          # Perform a single optimization step (parameter update)\n",
    "          optimizer.step()\n",
    "          # Update training loss\n",
    "          train_loss += loss.item()*data.size(0)\n",
    "          \n",
    "      model.eval()\n",
    "\n",
    "      for data,target in zip(x_validation_loader,y_validation_loader):\n",
    "          if flag_cuda:\n",
    "              data, target = data.cuda(), target.cuda()\n",
    "          output = model(data.float())\n",
    "          output = output.float()\n",
    "          target = target.type(torch.LongTensor) \n",
    "\n",
    "          if flag_cuda:\n",
    "            output, target = output.cuda(), target.cuda()\n",
    "\n",
    "          loss = criterion(output, target)\n",
    "          valid_loss += loss.item()*data.size(0)\n",
    "      \n",
    "      # Calculating average losses\n",
    "      train_loss = train_loss/len(train_X)\n",
    "      valid_loss = valid_loss/len(valid_X)\n",
    "      train_losslist.append(train_loss)\n",
    "      valid_losslist.append(valid_loss)\n",
    "          \n",
    "      #Printing training/validation statistics \n",
    "      print('Epoch: {} \\tTraining Loss: {:.6f} \\tValidation Loss: {:.6f}'.format(\n",
    "          epoch, train_loss, valid_loss))\n",
    "      \n",
    "      # Saving model if validation loss has decreased\n",
    "      if valid_loss <= valid_loss_min:\n",
    "          print('Validation loss decreased ({:.6f} --> {:.6f}).  Saving model ...'.format(\n",
    "              valid_loss_min,valid_loss))\n",
    "          torch.save(model.state_dict(), 'model.pt')\n",
    "          valid_loss_min = valid_loss\n",
    "        \n",
    "  return epochs_list, train_losslist, valid_losslist\n",
    "\n",
    "# Executing the training\n",
    "epochs_list, train_losslist, valid_losslist = trainNet(model,criterion,optimizer,n_epochs,flag_cuda)\n",
    "\n",
    "# Loading the best model\n",
    "model.load_state_dict(torch.load('model.pt'))\n",
    "\n",
    "# Plotting the learning curves\n",
    "plt.plot(epochs_list, train_losslist, epochs_list, valid_losslist)\n",
    "plt.xlabel(\"Epoch\")\n",
    "plt.ylabel(\"Loss\")\n",
    "plt.legend(['Training','Validation'])\n",
    "plt.title(\"Performance of Baseline Model\")\n",
    "plt.show()"
   ]
  },
  {
   "cell_type": "code",
   "execution_count": null,
   "metadata": {},
   "outputs": [],
   "source": []
  }
 ],
 "metadata": {
  "kernelspec": {
   "display_name": "base",
   "language": "python",
   "name": "python3"
  },
  "language_info": {
   "codemirror_mode": {
    "name": "ipython",
    "version": 3
   },
   "file_extension": ".py",
   "mimetype": "text/x-python",
   "name": "python",
   "nbconvert_exporter": "python",
   "pygments_lexer": "ipython3",
   "version": "3.9.7"
  },
  "orig_nbformat": 4
 },
 "nbformat": 4,
 "nbformat_minor": 2
}
