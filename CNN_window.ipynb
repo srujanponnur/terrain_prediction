{
 "cells": [
  {
   "cell_type": "code",
   "execution_count": 9,
   "metadata": {},
   "outputs": [],
   "source": [
    "import numpy as np\n",
    "import pandas as pd\n",
    "from sklearn.metrics import classification_report\n",
    "from sklearn.metrics import confusion_matrix\n",
    "import os\n",
    "from collections import Counter\n",
    "from sklearn.utils.class_weight import compute_class_weight\n",
    "import torch\n",
    "from sklearn.metrics import classification_report\n",
    "from tensorflow.keras.utils import to_categorical\n",
    "from sklearn.metrics import confusion_matrix\n",
    "from torch.utils.data import Dataset, DataLoader"
   ]
  },
  {
   "cell_type": "code",
   "execution_count": 23,
   "metadata": {},
   "outputs": [
    {
     "name": "stdout",
     "output_type": "stream",
     "text": [
      "Using CPU\n"
     ]
    }
   ],
   "source": [
    "flag_cuda = torch.cuda.is_available()\n",
    "\n",
    "if not flag_cuda:\n",
    "    print('Using CPU')\n",
    "else:\n",
    "    print('Using GPU')"
   ]
  },
  {
   "cell_type": "code",
   "execution_count": 3,
   "metadata": {},
   "outputs": [],
   "source": [
    "PATH = \"./TrainingData/\"\n",
    "val_subject = 5\n",
    "test_subject = 6"
   ]
  },
  {
   "cell_type": "code",
   "execution_count": 48,
   "metadata": {},
   "outputs": [],
   "source": [
    "files = []\n",
    "for filename in os.listdir(PATH):\n",
    "    files.append(filename)\n",
    "files = sorted(files, key = lambda x: (int(x.split('_')[1]),int(x.split('_')[2]), x.split('_')[4] ))\n",
    "files_train = list(filter(lambda x: int(x.split('_')[1]) not in  [val_subject], files))\n",
    "files_val = list(filter(lambda x: int(x.split('_')[1]) == val_subject, files))\n",
    "# files_test = list(filter(lambda x: int(x.split('_')[1])== test_subject, files))"
   ]
  },
  {
   "attachments": {},
   "cell_type": "markdown",
   "metadata": {},
   "source": [
    "Calculating the value count of the window (15) to feed it in CNN"
   ]
  },
  {
   "cell_type": "code",
   "execution_count": 49,
   "metadata": {},
   "outputs": [],
   "source": [
    "def windows(d, w, t):\n",
    "  r = np.arange(len(d))\n",
    "  s = r[::t]\n",
    "  z = list(zip(s, s + w))\n",
    "  f = '{0[0]}:{0[1]}'.format\n",
    "  g = lambda t: d.iloc[t[0]:t[1]]\n",
    "  ranges = list(map(f,z))\n",
    "  return ranges, pd.concat(map(g, z), keys=map(f, z))"
   ]
  },
  {
   "cell_type": "code",
   "execution_count": 50,
   "metadata": {},
   "outputs": [],
   "source": [
    "def make_dataset(files, X, Y, flag = False):\n",
    "    for i in range(0, len(files), 4):\n",
    "        x_time, x, y_time, y = files[i: i + 4]\n",
    "        x_time_df = pd.read_csv(PATH + x_time , header=None)\n",
    "        x_df = pd.read_csv(PATH + x , header=None)\n",
    "        x_combined = pd.concat([x_time_df, x_df], axis=1, ignore_index=True)\n",
    "        x_combined = x_combined.loc[range(1,len(x_combined), 4)].reset_index()  # down sampled the frequency\n",
    "        # print(x_combined.shape)\n",
    "        y_time_df = pd.read_csv(PATH + y_time , header=None)\n",
    "        y_df = pd.read_csv(PATH + y , header=None)\n",
    "        y_combined = pd.concat([y_time_df, y_df], axis=1, ignore_index=True)\n",
    "        # print(y_combined.shape)\n",
    "        train_df = pd.concat([x_combined, y_combined], axis=1, ignore_index=True)\n",
    "        train_df = train_df.drop(columns=[0, 1, 8])  # Dropping the time stamp\n",
    "        overlap = 15\n",
    "        if flag:\n",
    "            overlap = 30\n",
    "        ranges, windows_df = windows(train_df, 30, overlap)\n",
    "        for ran in ranges:\n",
    "            l,r = ran.split(':')\n",
    "            df_range = windows_df.iloc[int(l): int(r)]\n",
    "            if int(r) > len(windows_df):\n",
    "                break\n",
    "            y_values = df_range[9].values\n",
    "            x_values = df_range.drop(columns=[9]).values\n",
    "            X.append(x_values)\n",
    "            Y.append(Counter(list(y_values)).most_common(1)[0][0])\n",
    "    return X, Y"
   ]
  },
  {
   "cell_type": "code",
   "execution_count": 51,
   "metadata": {},
   "outputs": [
    {
     "name": "stdout",
     "output_type": "stream",
     "text": [
      "Done splitting the data\n"
     ]
    }
   ],
   "source": [
    "train_X, train_y = [], []\n",
    "valid_X, valid_y = [], []\n",
    "test_X, test_y = [], []\n",
    "\n",
    "make_dataset(files_train, train_X, train_y, False)\n",
    "train_X, train_y = np.array(train_X), np.array(train_y)\n",
    "make_dataset(files_val, valid_X, valid_y, True)\n",
    "valid_X, valid_y = np.array(valid_X),np.array(valid_y)\n",
    "# make_dataset(files_train, test_X, test_y, True)\n",
    "# test_X, test_y = np.array(test_X), np.array(test_y)\n",
    "print(\"Done splitting the data\")"
   ]
  },
  {
   "cell_type": "code",
   "execution_count": 52,
   "metadata": {},
   "outputs": [
    {
     "data": {
      "text/plain": [
       "(20115, 30, 6)"
      ]
     },
     "execution_count": 52,
     "metadata": {},
     "output_type": "execute_result"
    }
   ],
   "source": [
    "train_X.shape"
   ]
  },
  {
   "cell_type": "markdown",
   "metadata": {},
   "source": [
    "The weights that compensate for the imbalance distributions"
   ]
  },
  {
   "cell_type": "code",
   "execution_count": 53,
   "metadata": {},
   "outputs": [],
   "source": [
    "weight  = compute_class_weight(class_weight = 'balanced', classes = np.unique(train_y), y = np.array(train_y))\n",
    "weight = torch.tensor(weight)"
   ]
  },
  {
   "cell_type": "code",
   "execution_count": 54,
   "metadata": {},
   "outputs": [],
   "source": [
    "from torch.nn.modules import dropout\n",
    "import torch.nn as nn\n",
    "import torch.nn.functional as F\n",
    "import torch.optim as optim\n",
    "\n",
    "class Net(nn.Module):\n",
    "  def __init__(self):\n",
    "    super(Net, self).__init__()\n",
    "    self.conv1 = nn.Conv1d(6,16,3)\n",
    "    self.conv2 = nn.Conv1d(16,32,3)\n",
    "    self.pool1 = nn.MaxPool1d(2,2)\n",
    "    self.conv3 = nn.Conv1d(32,64,3)\n",
    "    self.conv4 = nn.Conv1d(64,128,3)\n",
    "    self.pool2 = nn.MaxPool1d(2,2)\n",
    "    self.fc1 = nn.Linear(512, 120)\n",
    "    self.fc2 = nn.Linear(120, 64)\n",
    "    self.fc3 = nn.Linear(64,4)\n",
    "    self.dropout1 = nn.Dropout(0.1)\n",
    "\n",
    "  def forward(self, x):\n",
    "    x = F.relu(self.conv1(x.permute(0,2,1)))\n",
    "    x = self.pool1(F.relu(self.dropout1(self.conv2(x))))\n",
    "    x = F.relu(self.conv3(x))\n",
    "    x = self.pool2(F.relu(self.dropout1(self.conv4(x))))\n",
    "    # print(\"1\",x.shape)\n",
    "    # x = x.view(-1,3456)\n",
    "    x = torch.flatten(x,1)\n",
    "    # print(\"2\",x.shape)\n",
    "    x = F.relu(self.dropout1(self.fc1(x)))\n",
    "    x = F.relu(self.dropout1(self.fc2(x)))\n",
    "    # print(\"3\", x.shape)\n",
    "    x = self.fc3(x)\n",
    "    return x\n",
    "\n",
    "model = Net()"
   ]
  },
  {
   "cell_type": "code",
   "execution_count": 55,
   "metadata": {},
   "outputs": [],
   "source": [
    "# Specifying the loss function\n",
    "criterion = nn.CrossEntropyLoss(weight = weight.float())\n",
    "\n",
    "# Specify optimizer\n",
    "# optimizer = optim.Adam(model.parameters(), lr=0.001,momentum=0.9)\n",
    "optimizer = optim.SGD(model.parameters(), lr=0.001, momentum=0.9)"
   ]
  },
  {
   "cell_type": "code",
   "execution_count": null,
   "metadata": {},
   "outputs": [],
   "source": [
    "random_data = torch.rand(((150, 30, 6)))"
   ]
  },
  {
   "cell_type": "code",
   "execution_count": 56,
   "metadata": {},
   "outputs": [],
   "source": [
    "batch_size = 16\n",
    "x_train_loader = torch.utils.data.DataLoader(train_X,batch_size = batch_size)\n",
    "y_train_loader = torch.utils.data.DataLoader(train_y,batch_size = batch_size)\n",
    "\n",
    "x_validation_loader = torch.utils.data.DataLoader(valid_X, batch_size = batch_size)\n",
    "y_validation_loader = torch.utils.data.DataLoader(valid_y, batch_size = batch_size)"
   ]
  },
  {
   "cell_type": "code",
   "execution_count": 57,
   "metadata": {},
   "outputs": [
    {
     "name": "stdout",
     "output_type": "stream",
     "text": [
      "Epoch: 1 \tTraining Loss: 1.040887 \tValidation Loss: 1.320876\n",
      "Validation loss decreased (inf --> 1.320876).  Saving model ...\n",
      "Epoch: 2 \tTraining Loss: 0.994470 \tValidation Loss: 1.219234\n",
      "Validation loss decreased (1.320876 --> 1.219234).  Saving model ...\n",
      "Epoch: 3 \tTraining Loss: 0.938653 \tValidation Loss: 1.146001\n",
      "Validation loss decreased (1.219234 --> 1.146001).  Saving model ...\n",
      "Epoch: 4 \tTraining Loss: 0.830967 \tValidation Loss: 0.989550\n",
      "Validation loss decreased (1.146001 --> 0.989550).  Saving model ...\n",
      "Epoch: 5 \tTraining Loss: 0.725054 \tValidation Loss: 0.937983\n",
      "Validation loss decreased (0.989550 --> 0.937983).  Saving model ...\n",
      "Epoch: 6 \tTraining Loss: 0.663711 \tValidation Loss: 0.826433\n",
      "Validation loss decreased (0.937983 --> 0.826433).  Saving model ...\n",
      "Epoch: 7 \tTraining Loss: 0.645235 \tValidation Loss: 0.740805\n",
      "Validation loss decreased (0.826433 --> 0.740805).  Saving model ...\n",
      "Epoch: 8 \tTraining Loss: 0.600958 \tValidation Loss: 0.740536\n",
      "Validation loss decreased (0.740805 --> 0.740536).  Saving model ...\n",
      "Epoch: 9 \tTraining Loss: 0.556811 \tValidation Loss: 0.670153\n",
      "Validation loss decreased (0.740536 --> 0.670153).  Saving model ...\n",
      "Epoch: 10 \tTraining Loss: 0.511207 \tValidation Loss: 0.531653\n",
      "Validation loss decreased (0.670153 --> 0.531653).  Saving model ...\n"
     ]
    },
    {
     "data": {
      "image/png": "[encoded data removed]",
      "text/plain": [
       "<Figure size 640x480 with 1 Axes>"
      ]
     },
     "metadata": {},
     "output_type": "display_data"
    }
   ],
   "source": [
    "import matplotlib.pyplot as plt\n",
    "\n",
    "n_epochs = 10\n",
    "\n",
    "def trainNet(model,criterion,optimizer,n_epochs,flag_cuda):\n",
    "\n",
    "  train_losslist = []\n",
    "  valid_losslist = []\n",
    "  valid_loss_min = np.Inf # track change in validation loss\n",
    "  for epoch in range(1, n_epochs + 1):\n",
    "      # Keeping track of training and validation loss\n",
    "      train_loss = 0.0\n",
    "      valid_loss = 0.0\n",
    "    \n",
    "      model.train()\n",
    "\n",
    "      for data,target in zip(x_train_loader,y_train_loader):\n",
    "          if flag_cuda:\n",
    "              data, target = data.cuda(), target.cuda()\n",
    "          optimizer.zero_grad()\n",
    "          output = model(data.float())\n",
    "          output = output.float()\n",
    "          target = target.type(torch.LongTensor)\n",
    "          \n",
    "          if flag_cuda:\n",
    "            output, target = output.cuda(), target.cuda()\n",
    "\n",
    "          \n",
    "          loss = criterion(output, target)\n",
    "\n",
    "          # Backward pass: compute gradient of loss with respect to parameters\n",
    "          loss.backward()\n",
    "          # Perform a single optimization step (parameter update)\n",
    "          optimizer.step()\n",
    "          # Update training loss\n",
    "          train_loss += loss.item()*data.size(0)\n",
    "          \n",
    "      model.eval()\n",
    "\n",
    "      for data,target in zip(x_validation_loader,y_validation_loader):\n",
    "          if flag_cuda:\n",
    "              data, target = data.cuda(), target.cuda()\n",
    "          output = model(data.float())\n",
    "          output = output.float()\n",
    "          target = target.type(torch.LongTensor) \n",
    "\n",
    "          if flag_cuda:\n",
    "            output, target = output.cuda(), target.cuda()\n",
    "\n",
    "          loss = criterion(output, target)\n",
    "          valid_loss += loss.item()*data.size(0)\n",
    "      \n",
    "      # Calculating average losses\n",
    "      train_loss = train_loss/len(train_X)\n",
    "      valid_loss = valid_loss/len(valid_X)\n",
    "      train_losslist.append(train_loss)\n",
    "      valid_losslist.append(valid_loss)\n",
    "          \n",
    "      #Printing training/validation statistics \n",
    "      print('Epoch: {} \\tTraining Loss: {:.6f} \\tValidation Loss: {:.6f}'.format(\n",
    "          epoch, train_loss, valid_loss))\n",
    "      \n",
    "      # Saving model if validation loss has decreased\n",
    "      if valid_loss <= valid_loss_min:\n",
    "          print('Validation loss decreased ({:.6f} --> {:.6f}).  Saving model ...'.format(\n",
    "              valid_loss_min,valid_loss))\n",
    "          torch.save(model.state_dict(), 'model.pt')\n",
    "          valid_loss_min = valid_loss\n",
    "        \n",
    "  return train_losslist, valid_losslist\n",
    "\n",
    "# Executing the training\n",
    "train_losslist, valid_losslist = trainNet(model,criterion,optimizer,n_epochs,flag_cuda)\n",
    "\n",
    "# Loading the best model\n",
    "model.load_state_dict(torch.load('model.pt'))\n",
    "\n",
    "# Plotting the learning curves\n",
    "plt.plot(range(1, n_epochs + 1), train_losslist, valid_losslist)\n",
    "plt.xlabel(\"Epoch\")\n",
    "plt.ylabel(\"Loss\")\n",
    "plt.legend(['Training','Validation'])\n",
    "plt.title(\"Performance of Baseline Model\")\n",
    "plt.show()"
   ]
  },
  {
   "cell_type": "code",
   "execution_count": 58,
   "metadata": {},
   "outputs": [
    {
     "name": "stdout",
     "output_type": "stream",
     "text": [
      "(1128, 30, 6)\n",
      "Test Loss: 0.531653\n",
      "\n",
      "Test Accuracy of        0.0: 98% (921/933)\n",
      "Test Accuracy of        1.0: 97% (43/44)\n",
      "Test Accuracy of        2.0: 41% (23/56)\n",
      "Test Accuracy of        3.0:  2% ( 2/95)\n",
      "\n",
      "Test Accuracy (Overall): 87% (989/1128)\n"
     ]
    }
   ],
   "source": [
    "classes = [0.,1.,2.,3.]\n",
    "y_prediction = []\n",
    "\n",
    "def assessNet(model,criterion):\n",
    "  # Tracking test loss and accuracy\n",
    "  test_loss = 0.0\n",
    "  class_correct = list(0. for i in range(4))\n",
    "  class_total = list(0. for i in range(4))\n",
    "\n",
    "  # Setting model to evaluate\n",
    "  model.eval()\n",
    "\n",
    "  # Iterating over batches of test data\n",
    "\n",
    "  print(valid_X.shape)\n",
    "\n",
    "  for data,target in zip(x_validation_loader,y_validation_loader):\n",
    "      # Obtaining predictions and loss\n",
    "      if flag_cuda:\n",
    "          data, target = data.cuda(), target.cuda()\n",
    "      output = model(data.float())\n",
    "      # output = torch.argmax(output,dim = 1)\n",
    "      output = output.float()\n",
    "      # output = torch.tensor(np.argmax(output.detach().numpy(),axis=1))\n",
    "      target = target.type(torch.LongTensor) \n",
    "      # target = target.float()\n",
    "      if flag_cuda:\n",
    "        output, target = output.cuda(), target.cuda()\n",
    "      loss = criterion(output, target)\n",
    "      test_loss += loss.item()*data.size(0)\n",
    "      _, pred = torch.max(output, 1)    \n",
    "      # Comparing predictions to true label\n",
    "      correct_tensor = pred.eq(target.data.view_as(pred))\n",
    "      # print(pred)\n",
    "      y_prediction.extend(pred.cpu().numpy())\n",
    "      correct = np.squeeze(correct_tensor.numpy()) if not flag_cuda else np.squeeze(correct_tensor.cpu().numpy())\n",
    "      # Calculating test accuracy for each object class\n",
    "      for i in range(len(output)):\n",
    "          label = target.data[i]\n",
    "          class_correct[label] += correct[i].item()\n",
    "          class_total[label] += 1\n",
    "\n",
    "  # Computing the average test loss\n",
    "  test_loss = test_loss/len(valid_X)\n",
    "  print('Test Loss: {:.6f}\\n'.format(test_loss))\n",
    "\n",
    "  # Computing the class accuracies\n",
    "  for i in range(4):\n",
    "      if class_total[i] > 0:\n",
    "          print('Test Accuracy of %10s: %2d%% (%2d/%2d)' % (\n",
    "              classes[i], 100 * class_correct[i] / class_total[i],\n",
    "              np.sum(class_correct[i]), np.sum(class_total[i])))\n",
    "      else:\n",
    "          print('Test Accuracy of %10s: N/A (no training examples)' % (classes[i]))\n",
    "\n",
    "  # Computing the overall accuracy\n",
    "  print('\\nTest Accuracy (Overall): %2d%% (%2d/%2d)' % (\n",
    "      100. * np.sum(class_correct) / np.sum(class_total),\n",
    "      np.sum(class_correct), np.sum(class_total)))\n",
    "\n",
    "\n",
    "  return\n",
    "\n",
    "assessNet(model,criterion)"
   ]
  },
  {
   "cell_type": "code",
   "execution_count": 60,
   "metadata": {},
   "outputs": [
    {
     "data": {
      "text/plain": [
       "1128"
      ]
     },
     "execution_count": 60,
     "metadata": {},
     "output_type": "execute_result"
    }
   ],
   "source": [
    "len(y_prediction)"
   ]
  },
  {
   "cell_type": "code",
   "execution_count": 61,
   "metadata": {},
   "outputs": [
    {
     "name": "stdout",
     "output_type": "stream",
     "text": [
      "              precision    recall  f1-score   support\n",
      "\n",
      "           0       0.90      0.99      0.94       933\n",
      "           1       0.80      0.98      0.88        44\n",
      "           2       0.92      0.41      0.57        56\n",
      "           3       0.07      0.02      0.03        95\n",
      "\n",
      "    accuracy                           0.88      1128\n",
      "   macro avg       0.67      0.60      0.61      1128\n",
      "weighted avg       0.83      0.88      0.85      1128\n",
      "\n",
      "[[921   3   2   7]\n",
      " [  1  43   0   0]\n",
      " [  4   8  23  21]\n",
      " [ 93   0   0   2]]\n"
     ]
    }
   ],
   "source": [
    "\n",
    "print(classification_report(y_true=valid_y, y_pred=y_prediction))"
   ]
  },
  {
   "cell_type": "code",
   "execution_count": 62,
   "metadata": {},
   "outputs": [
    {
     "name": "stdout",
     "output_type": "stream",
     "text": [
      "[[921   3   2   7]\n",
      " [  1  43   0   0]\n",
      " [  4   8  23  21]\n",
      " [ 93   0   0   2]]\n"
     ]
    }
   ],
   "source": [
    "print(confusion_matrix(y_true=valid_y, y_pred=y_prediction))"
   ]
  }
 ],
 "metadata": {
  "kernelspec": {
   "display_name": "base",
   "language": "python",
   "name": "python3"
  },
  "language_info": {
   "codemirror_mode": {
    "name": "ipython",
    "version": 3
   },
   "file_extension": ".py",
   "mimetype": "text/x-python",
   "name": "python",
   "nbconvert_exporter": "python",
   "pygments_lexer": "ipython3",
   "version": "3.9.7"
  },
  "orig_nbformat": 4
 },
 "nbformat": 4,
 "nbformat_minor": 2
}
