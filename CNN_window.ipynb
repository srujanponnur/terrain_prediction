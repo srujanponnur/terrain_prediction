{
 "cells": [
  {
   "cell_type": "code",
   "execution_count": 103,
   "metadata": {},
   "outputs": [],
   "source": [
    "import numpy as np\n",
    "import pandas as pd\n",
    "from sklearn.metrics import classification_report\n",
    "from sklearn.metrics import confusion_matrix\n",
    "import os\n",
    "from collections import Counter\n",
    "from sklearn.utils.class_weight import compute_class_weight\n",
    "import torch\n",
    "from sklearn.metrics import classification_report\n",
    "from sklearn.metrics import confusion_matrix\n",
    "from torch.utils.data import Dataset, DataLoader\n",
    "from os import path"
   ]
  },
  {
   "cell_type": "code",
   "execution_count": 97,
   "metadata": {},
   "outputs": [
    {
     "name": "stdout",
     "output_type": "stream",
     "text": [
      "Using CPU\n"
     ]
    }
   ],
   "source": [
    "flag_cuda = torch.cuda.is_available()\n",
    "\n",
    "if not flag_cuda:\n",
    "    print('Using CPU')\n",
    "else:\n",
    "    print('Using GPU')"
   ]
  },
  {
   "cell_type": "code",
   "execution_count": 98,
   "metadata": {},
   "outputs": [],
   "source": [
    "PATH = \"./TrainingData/\"\n",
    "val_subject = 5\n",
    "test_subject = 6"
   ]
  },
  {
   "cell_type": "code",
   "execution_count": 99,
   "metadata": {},
   "outputs": [],
   "source": [
    "files = []\n",
    "for filename in os.listdir(PATH):\n",
    "    files.append(filename)\n",
    "files = sorted(files, key = lambda x: (int(x.split('_')[1]),int(x.split('_')[2]), x.split('_')[4] ))\n",
    "files_train = list(filter(lambda x: int(x.split('_')[1]) not in  [val_subject, test_subject], files))\n",
    "files_val = list(filter(lambda x: int(x.split('_')[1]) == val_subject, files))\n",
    "files_test = list(filter(lambda x: int(x.split('_')[1])== test_subject, files))"
   ]
  },
  {
   "attachments": {},
   "cell_type": "markdown",
   "metadata": {},
   "source": [
    "Calculating the value count of the window (15) to feed it in CNN"
   ]
  },
  {
   "cell_type": "code",
   "execution_count": 100,
   "metadata": {},
   "outputs": [],
   "source": [
    "def windows(d, w, t):\n",
    "  r = np.arange(len(d))\n",
    "  s = r[::t]\n",
    "  z = list(zip(s, s + w))\n",
    "  f = '{0[0]}:{0[1]}'.format\n",
    "  g = lambda t: d.iloc[t[0]:t[1]]\n",
    "  ranges = list(map(f,z))\n",
    "  return ranges, pd.concat(map(g, z), keys=map(f, z))"
   ]
  },
  {
   "cell_type": "code",
   "execution_count": 101,
   "metadata": {},
   "outputs": [],
   "source": [
    "def make_dataset(files, X, Y, freq_down=True, flag = False):\n",
    "\n",
    "    overlap = 15\n",
    "    if flag:\n",
    "        overlap = 30\n",
    "\n",
    "    for i in range(0, len(files), 4):\n",
    "        x_time, x, y_time, y = files[i: i + 4]\n",
    "        train_df = None\n",
    "        if freq_down:\n",
    "            #X_features\n",
    "            x_time_df = pd.read_csv(PATH + x_time , header=None)\n",
    "            x_df = pd.read_csv(PATH + x , header=None)\n",
    "            x_combined = pd.concat([x_time_df, x_df], axis=1, ignore_index=True)\n",
    "            x_combined = x_combined.loc[range(1,len(x_combined), 4)].reset_index()  # down sampled the frequency\n",
    "\n",
    "            #Y_labels\n",
    "            y_time_df = pd.read_csv(PATH + y_time , header=None)\n",
    "            y_df = pd.read_csv(PATH + y , header=None)\n",
    "            y_combined = pd.concat([y_time_df, y_df], axis=1, ignore_index=True)\n",
    "\n",
    "            train_df = pd.concat([x_combined, y_combined], axis=1, ignore_index=True)\n",
    "            train_df = train_df.drop(columns=[0, 1, 8])  # Dropping the time stamp\n",
    "            ranges, windows_df = windows(train_df, 30, overlap)\n",
    "            for ran in ranges:\n",
    "                l,r = ran.split(':')\n",
    "                df_range = windows_df.iloc[int(l): int(r)]\n",
    "                if int(r) > len(windows_df):\n",
    "                    break\n",
    "                y_values = df_range[9].values\n",
    "                x_values = df_range.drop(columns=[9]).values\n",
    "                X.append(x_values)\n",
    "                Y.append(Counter(list(y_values)).most_common(1)[0][0])\n",
    "        else:\n",
    "            #X_features\n",
    "            x_time_df = pd.read_csv(PATH + x_time, header=None)\n",
    "            x_time_df.astype('float64')\n",
    "            x_df = pd.read_csv(PATH + x, header=None)\n",
    "            x_combined = pd.concat([x_time_df, x_df], axis=1, ignore_index=True)\n",
    "            x_combined = x_combined.rename({0:'timestamp'}, axis='columns')\n",
    "            x_combined.set_index('timestamp', inplace=True)\n",
    "\n",
    "            #Y_labels\n",
    "            y_time_df = pd.read_csv(PATH + y_time , header=None)\n",
    "            y_time_df.astype('float64')\n",
    "            y_df = pd.read_csv(PATH + y, header=None)\n",
    "            y_combined = pd.concat([y_time_df, y_df], axis=1, ignore_index=True)\n",
    "            y_combined = y_combined.rename({0:'timestamp'}, axis='columns')\n",
    "            y_combined.set_index('timestamp', inplace=True)\n",
    "            train_df = pd.merge_asof(left=x_combined, right=y_combined, left_index=True, right_index = True, direction='nearest')  # Merging using the neareset values\n",
    "            ranges, windows_df = windows(train_df, 30, overlap)\n",
    "            for ran in ranges:\n",
    "                l,r = ran.split(':')\n",
    "                df_range = windows_df.iloc[int(l): int(r)]\n",
    "                if int(r) > len(windows_df):\n",
    "                    break\n",
    "                y_values = df_range['1_y'].values\n",
    "                x_values = df_range.drop(columns=['1_y']).values\n",
    "                X.append(x_values)\n",
    "                Y.append(Counter(list(y_values)).most_common(1)[0][0])\n",
    "    print(len(X), len(y))\n",
    "    return X, Y"
   ]
  },
  {
   "cell_type": "code",
   "execution_count": 56,
   "metadata": {},
   "outputs": [
    {
     "name": "stdout",
     "output_type": "stream",
     "text": [
      "70235 21\n",
      "9035 21\n",
      "17566 21\n",
      "Done splitting the data\n"
     ]
    }
   ],
   "source": [
    "train_X, train_y = [], []\n",
    "valid_X, valid_y = [], []\n",
    "test_X, test_y = [], []\n",
    "\n",
    "make_dataset(files_train, train_X, train_y, freq_down=False, flag=False)\n",
    "train_X, train_y = np.array(train_X), np.array(train_y)\n",
    "make_dataset(files_val, valid_X, valid_y, freq_down=False, flag=False)\n",
    "valid_X, valid_y = np.array(valid_X),np.array(valid_y)\n",
    "make_dataset(files_train, test_X, test_y, True)\n",
    "test_X, test_y = np.array(test_X), np.array(test_y)\n",
    "print(\"Done splitting the data\")"
   ]
  },
  {
   "cell_type": "code",
   "execution_count": 35,
   "metadata": {},
   "outputs": [
    {
     "data": {
      "text/plain": [
       "(80424, 30, 6)"
      ]
     },
     "execution_count": 35,
     "metadata": {},
     "output_type": "execute_result"
    }
   ],
   "source": [
    "train_X.shape"
   ]
  },
  {
   "cell_type": "markdown",
   "metadata": {},
   "source": [
    "The weights that compensate for the imbalance distributions"
   ]
  },
  {
   "cell_type": "code",
   "execution_count": 57,
   "metadata": {},
   "outputs": [],
   "source": [
    "weight  = compute_class_weight(class_weight = 'balanced', classes = np.unique(train_y), y = np.array(train_y))\n",
    "weight = torch.tensor(weight)"
   ]
  },
  {
   "cell_type": "code",
   "execution_count": 37,
   "metadata": {},
   "outputs": [
    {
     "data": {
      "text/plain": [
       "tensor([0.3500, 4.8460, 9.5515, 1.2022], dtype=torch.float64)"
      ]
     },
     "execution_count": 37,
     "metadata": {},
     "output_type": "execute_result"
    }
   ],
   "source": [
    "weight"
   ]
  },
  {
   "cell_type": "code",
   "execution_count": 58,
   "metadata": {},
   "outputs": [],
   "source": [
    "from torch.nn.modules import dropout\n",
    "import torch.nn as nn\n",
    "import torch.nn.functional as F\n",
    "import torch.optim as optim\n",
    "\n",
    "class Net(nn.Module):\n",
    "  def __init__(self):\n",
    "    super(Net, self).__init__()\n",
    "    self.conv1 = nn.Conv1d(6,16,3)\n",
    "    self.conv2 = nn.Conv1d(16,32,3)\n",
    "    self.pool1 = nn.MaxPool1d(2,2)\n",
    "    self.conv3 = nn.Conv1d(32,64,3)\n",
    "    self.conv4 = nn.Conv1d(64,128,3)\n",
    "    self.pool2 = nn.MaxPool1d(2,2)\n",
    "    self.fc1 = nn.Linear(512, 120)\n",
    "    self.fc2 = nn.Linear(120, 64)\n",
    "    self.fc3 = nn.Linear(64,4)\n",
    "    self.dropout1 = nn.Dropout(0.1)\n",
    "\n",
    "  def forward(self, x):\n",
    "    x = F.relu(self.conv1(x.permute(0,2,1)))\n",
    "    x = self.pool1(F.relu(self.dropout1(self.conv2(x))))\n",
    "    x = F.relu(self.conv3(x))\n",
    "    x = self.pool2(F.relu(self.dropout1(self.conv4(x))))\n",
    "    # print(\"1\",x.shape)\n",
    "    # x = x.view(-1,3456)\n",
    "    x = torch.flatten(x,1)\n",
    "    # print(\"2\",x.shape)\n",
    "    x = F.relu(self.dropout1(self.fc1(x)))\n",
    "    x = F.relu(self.dropout1(self.fc2(x)))\n",
    "    # print(\"3\", x.shape)\n",
    "    x = self.fc3(x)\n",
    "    return x\n",
    "\n",
    "model = Net()"
   ]
  },
  {
   "cell_type": "code",
   "execution_count": 59,
   "metadata": {},
   "outputs": [],
   "source": [
    "# Specifying the loss function\n",
    "criterion = nn.CrossEntropyLoss(weight = weight.float())\n",
    "\n",
    "# Specify optimizer\n",
    "optimizer = optim.Adam(model.parameters(), lr=0.001)\n",
    "# optimizer = optim.SGD(model.parameters(), lr=0.001, momentum=0.9)"
   ]
  },
  {
   "cell_type": "code",
   "execution_count": 60,
   "metadata": {},
   "outputs": [],
   "source": [
    "batch_size = 32\n",
    "x_train_loader = torch.utils.data.DataLoader(train_X,batch_size = batch_size)\n",
    "y_train_loader = torch.utils.data.DataLoader(train_y,batch_size = batch_size)\n",
    "\n",
    "x_validation_loader = torch.utils.data.DataLoader(valid_X, batch_size = batch_size)\n",
    "y_validation_loader = torch.utils.data.DataLoader(valid_y, batch_size = batch_size)\n",
    "\n",
    "\n",
    "x_test_loader = torch.utils.data.DataLoader(test_X, batch_size = batch_size)\n",
    "y_test_loader = torch.utils.data.DataLoader(test_y, batch_size = batch_size)"
   ]
  },
  {
   "cell_type": "code",
   "execution_count": 61,
   "metadata": {},
   "outputs": [
    {
     "name": "stdout",
     "output_type": "stream",
     "text": [
      "Epoch: 1 \tTraining Loss: 1.056123 \tValidation Loss: 0.735998\n",
      "Validation loss decreased (inf --> 0.735998).  Saving model ...\n",
      "Epoch: 2 \tTraining Loss: 0.876641 \tValidation Loss: 0.692021\n",
      "Validation loss decreased (0.735998 --> 0.692021).  Saving model ...\n",
      "Epoch: 3 \tTraining Loss: 0.781384 \tValidation Loss: 0.694409\n",
      "Epoch: 4 \tTraining Loss: 0.744691 \tValidation Loss: 0.654915\n",
      "Validation loss decreased (0.692021 --> 0.654915).  Saving model ...\n",
      "Epoch: 5 \tTraining Loss: 0.707638 \tValidation Loss: 0.684610\n",
      "Epoch: 6 \tTraining Loss: 0.650992 \tValidation Loss: 0.697047\n",
      "Epoch: 7 \tTraining Loss: 0.616478 \tValidation Loss: 0.551903\n",
      "Validation loss decreased (0.654915 --> 0.551903).  Saving model ...\n",
      "Epoch: 8 \tTraining Loss: 0.587022 \tValidation Loss: 0.567680\n",
      "Epoch: 9 \tTraining Loss: 0.556400 \tValidation Loss: 0.576241\n",
      "Epoch: 10 \tTraining Loss: 0.532579 \tValidation Loss: 0.593256\n"
     ]
    },
    {
     "data": {
      "image/png": "[encoded data removed]",
      "text/plain": [
       "<Figure size 640x480 with 1 Axes>"
      ]
     },
     "metadata": {},
     "output_type": "display_data"
    }
   ],
   "source": [
    "import matplotlib.pyplot as plt\n",
    "\n",
    "n_epochs = 10\n",
    "\n",
    "def trainNet(model,criterion,optimizer,n_epochs,flag_cuda):\n",
    "\n",
    "  train_losslist = []\n",
    "  valid_losslist = []\n",
    "  valid_loss_min = np.Inf # track change in validation loss\n",
    "  for epoch in range(1, n_epochs + 1):\n",
    "      # Keeping track of training and validation loss\n",
    "      train_loss = 0.0\n",
    "      valid_loss = 0.0\n",
    "    \n",
    "      model.train()\n",
    "\n",
    "      for data,target in zip(x_train_loader,y_train_loader):\n",
    "          if flag_cuda:\n",
    "              data, target = data.cuda(), target.cuda()\n",
    "          optimizer.zero_grad()\n",
    "          output = model(data.float())\n",
    "          output = output.float()\n",
    "          target = target.type(torch.LongTensor)\n",
    "          \n",
    "          if flag_cuda:\n",
    "            output, target = output.cuda(), target.cuda()\n",
    "\n",
    "          loss = criterion(output, target)\n",
    "\n",
    "          # Backward pass: compute gradient of loss with respect to parameters\n",
    "          loss.backward()\n",
    "          # Perform a single optimization step (parameter update)\n",
    "          optimizer.step()\n",
    "          # Update training loss\n",
    "          train_loss += loss.item()*data.size(0)\n",
    "          \n",
    "      model.eval()\n",
    "\n",
    "      for data,target in zip(x_validation_loader,y_validation_loader):\n",
    "          if flag_cuda:\n",
    "              data, target = data.cuda(), target.cuda()\n",
    "          output = model(data.float())\n",
    "          output = output.float()\n",
    "          target = target.type(torch.LongTensor) \n",
    "\n",
    "          if flag_cuda:\n",
    "            output, target = output.cuda(), target.cuda()\n",
    "\n",
    "          loss = criterion(output, target)\n",
    "          valid_loss += loss.item()*data.size(0)\n",
    "      \n",
    "      # Calculating average losses\n",
    "      train_loss = train_loss/len(train_X)\n",
    "      valid_loss = valid_loss/len(valid_X)\n",
    "      train_losslist.append(train_loss)\n",
    "      valid_losslist.append(valid_loss)\n",
    "          \n",
    "      #Printing training/validation statistics \n",
    "      print('Epoch: {} \\tTraining Loss: {:.6f} \\tValidation Loss: {:.6f}'.format(\n",
    "          epoch, train_loss, valid_loss))\n",
    "      \n",
    "      # Saving model if validation loss has decreased\n",
    "      if valid_loss <= valid_loss_min:\n",
    "          print('Validation loss decreased ({:.6f} --> {:.6f}).  Saving model ...'.format(\n",
    "              valid_loss_min,valid_loss))\n",
    "          torch.save(model.state_dict(), 'model.pt')\n",
    "          valid_loss_min = valid_loss\n",
    "        \n",
    "  return train_losslist, valid_losslist\n",
    "\n",
    "# Executing the training\n",
    "train_losslist, valid_losslist = trainNet(model,criterion,optimizer,n_epochs,flag_cuda)\n",
    "\n",
    "# Loading the best model\n",
    "model.load_state_dict(torch.load('model.pt'))\n",
    "\n",
    "# Plotting the learning curves\n",
    "plt.plot(range(1, n_epochs + 1), train_losslist, valid_losslist)\n",
    "plt.xlabel(\"Epoch\")\n",
    "plt.ylabel(\"Loss\")\n",
    "plt.legend(['Training','Validation'])\n",
    "plt.title(\"Performance of Baseline Model\")\n",
    "plt.show()"
   ]
  },
  {
   "cell_type": "code",
   "execution_count": 68,
   "metadata": {},
   "outputs": [
    {
     "name": "stdout",
     "output_type": "stream",
     "text": [
      "(9035, 30, 6)\n",
      "Test Loss: 2.064366\n",
      "\n",
      "Test Accuracy of        0.0: 95% (11848/12401)\n",
      "Test Accuracy of        1.0: 23% (207/895)\n",
      "Test Accuracy of        2.0:  0% ( 0/452)\n",
      "Test Accuracy of        3.0:  7% (280/3818)\n",
      "\n",
      "Test Accuracy (Overall): 70% (12335/17566)\n"
     ]
    }
   ],
   "source": [
    "classes = [0.,1.,2.,3.]\n",
    "y_prediction = []\n",
    "\n",
    "def assessNet(model,criterion, x_test_loader, y_test_loader):\n",
    "  # Tracking test loss and accuracy\n",
    "  test_loss = 0.0\n",
    "  class_correct = list(0. for i in range(4))\n",
    "  class_total = list(0. for i in range(4))\n",
    "\n",
    "  # Setting model to evaluate\n",
    "  model.eval()\n",
    "\n",
    "  # Iterating over batches of test data\n",
    "\n",
    "  print(valid_X.shape)\n",
    "\n",
    "  for data,target in zip(x_test_loader,y_test_loader):\n",
    "      # Obtaining predictions and loss\n",
    "      if flag_cuda:\n",
    "          data, target = data.cuda(), target.cuda()\n",
    "      output = model(data.float())\n",
    "      # output = torch.argmax(output,dim = 1)\n",
    "      output = output.float()\n",
    "      # output = torch.tensor(np.argmax(output.detach().numpy(),axis=1))\n",
    "      target = target.type(torch.LongTensor) \n",
    "      # target = target.float()\n",
    "      if flag_cuda:\n",
    "        output, target = output.cuda(), target.cuda()\n",
    "      loss = criterion(output, target)\n",
    "      test_loss += loss.item()*data.size(0)\n",
    "      _, pred = torch.max(output, 1)    \n",
    "      # Comparing predictions to true label\n",
    "      correct_tensor = pred.eq(target.data.view_as(pred))\n",
    "      # print(pred)\n",
    "      y_prediction.extend(pred.cpu().numpy())\n",
    "      correct = np.squeeze(correct_tensor.numpy()) if not flag_cuda else np.squeeze(correct_tensor.cpu().numpy())\n",
    "      # Calculating test accuracy for each object class\n",
    "      for i in range(len(output)):\n",
    "          label = target.data[i]\n",
    "          class_correct[label] += correct[i].item()\n",
    "          class_total[label] += 1\n",
    "\n",
    "  # Computing the average test loss\n",
    "  test_loss = test_loss/len(valid_X)\n",
    "  print('Test Loss: {:.6f}\\n'.format(test_loss))\n",
    "\n",
    "  # Computing the class accuracies\n",
    "  for i in range(4):\n",
    "      if class_total[i] > 0:\n",
    "          print('Test Accuracy of %10s: %2d%% (%2d/%2d)' % (\n",
    "              classes[i], 100 * class_correct[i] / class_total[i],\n",
    "              np.sum(class_correct[i]), np.sum(class_total[i])))\n",
    "      else:\n",
    "          print('Test Accuracy of %10s: N/A (no training examples)' % (classes[i]))\n",
    "\n",
    "  # Computing the overall accuracy\n",
    "  print('\\nTest Accuracy (Overall): %2d%% (%2d/%2d)' % (\n",
    "      100. * np.sum(class_correct) / np.sum(class_total),\n",
    "      np.sum(class_correct), np.sum(class_total)))\n",
    "\n",
    "\n",
    "  return\n",
    "\n",
    "assessNet(model,criterion, x_test_loader, y_test_loader)"
   ]
  },
  {
   "cell_type": "code",
   "execution_count": 60,
   "metadata": {},
   "outputs": [
    {
     "data": {
      "text/plain": [
       "1128"
      ]
     },
     "execution_count": 60,
     "metadata": {},
     "output_type": "execute_result"
    }
   ],
   "source": [
    "len(y_prediction)"
   ]
  },
  {
   "cell_type": "code",
   "execution_count": 65,
   "metadata": {},
   "outputs": [
    {
     "name": "stdout",
     "output_type": "stream",
     "text": [
      "              precision    recall  f1-score   support\n",
      "\n",
      "           0       0.73      0.96      0.83     12401\n",
      "           1       0.49      0.23      0.31       895\n",
      "           2       0.00      0.00      0.00       452\n",
      "           3       0.29      0.07      0.12      3818\n",
      "\n",
      "    accuracy                           0.70     17566\n",
      "   macro avg       0.38      0.32      0.32     17566\n",
      "weighted avg       0.61      0.70      0.63     17566\n",
      "\n"
     ]
    }
   ],
   "source": [
    "\n",
    "print(classification_report(y_true=test_y, y_pred=y_prediction))"
   ]
  },
  {
   "cell_type": "code",
   "execution_count": 62,
   "metadata": {},
   "outputs": [
    {
     "name": "stdout",
     "output_type": "stream",
     "text": [
      "[[921   3   2   7]\n",
      " [  1  43   0   0]\n",
      " [  4   8  23  21]\n",
      " [ 93   0   0   2]]\n"
     ]
    }
   ],
   "source": [
    "print(confusion_matrix(y_true=valid_y, y_pred=y_prediction))"
   ]
  },
  {
   "attachments": {},
   "cell_type": "markdown",
   "metadata": {},
   "source": [
    "Evaluating on test data"
   ]
  },
  {
   "cell_type": "code",
   "execution_count": 121,
   "metadata": {},
   "outputs": [],
   "source": [
    "test_path = \"./TestData/\"\n",
    "target_path = \"./output\"\n",
    "test_overlap = 30\n",
    "test_files = sorted(os.listdir(test_path))\n",
    "for i in range(0, len(test_files), 3):\n",
    "    X = []\n",
    "    x_time, x, y_time = test_files[i: i + 3]\n",
    "    train_df = None\n",
    "    \n",
    "    #X_features\n",
    "    x_time_df = pd.read_csv(test_path + x_time , header=None)\n",
    "    x_df = pd.read_csv(test_path + x , header=None)\n",
    "    x_combined = pd.concat([x_time_df, x_df], axis=1, ignore_index=True)\n",
    "    x_combined = x_combined.loc[range(1,len(x_combined), 4)].reset_index()  # down sampled the frequency\n",
    "    y_time_df = pd.read_csv(test_path + y_time , header=None)\n",
    "    # train_df = pd.concat([x_combined, y_combined], axis=1, ignore_index=True)\n",
    "    train_df = x_combined.drop(columns=[0, 1])  # Dropping the time stamp\n",
    "    ranges, windows_df = windows(train_df, 30, test_overlap)\n",
    "    for ran in ranges:\n",
    "        l,r = ran.split(':')\n",
    "        df_range = windows_df.iloc[int(l): int(r)]\n",
    "        if int(r) > len(windows_df):\n",
    "            break\n",
    "        x_values = df_range.values\n",
    "        X.append(x_values)\n",
    "    X = np.array(X)\n",
    "    x_test_loader = torch.utils.data.DataLoader(X, batch_size = len(X))\n",
    "    total_pred = []\n",
    "    for data in x_test_loader:\n",
    "        pred = model(data.float())\n",
    "        pred = np.argmax(pred.detach().numpy(), axis=1)\n",
    "        for target in pred:\n",
    "            total_pred.extend([target] * 30)\n",
    "        remaining = len(train_df) - len(total_pred)\n",
    "        if remaining:\n",
    "            total_pred.extend([total_pred[-1]] * remaining)\n",
    "\n",
    "        y_df = pd.DataFrame(total_pred)\n",
    "        filename = path.join(target_path,(x_time.split('__')[0] + '__y.csv'))\n",
    "        y_df.to_csv(filename, index=False, header=None)\n",
    "    "
   ]
  },
  {
   "cell_type": "code",
   "execution_count": null,
   "metadata": {},
   "outputs": [],
   "source": []
  }
 ],
 "metadata": {
  "kernelspec": {
   "display_name": "base",
   "language": "python",
   "name": "python3"
  },
  "language_info": {
   "codemirror_mode": {
    "name": "ipython",
    "version": 3
   },
   "file_extension": ".py",
   "mimetype": "text/x-python",
   "name": "python",
   "nbconvert_exporter": "python",
   "pygments_lexer": "ipython3",
   "version": "3.9.7"
  },
  "orig_nbformat": 4
 },
 "nbformat": 4,
 "nbformat_minor": 2
}
