{
 "cells": [
  {
   "cell_type": "code",
   "execution_count": 2,
   "metadata": {},
   "outputs": [],
   "source": [
    "import numpy as np\n",
    "import pandas as pd\n",
    "from sklearn.metrics import classification_report\n",
    "from sklearn.metrics import confusion_matrix\n",
    "import os\n",
    "from collections import Counter\n",
    "from sklearn.utils.class_weight import compute_class_weight\n",
    "import torch\n",
    "from sklearn.metrics import classification_report\n",
    "from sklearn.metrics import confusion_matrix"
   ]
  },
  {
   "cell_type": "code",
   "execution_count": 3,
   "metadata": {},
   "outputs": [],
   "source": [
    "PATH = \"./TrainingData/\"\n",
    "val_subject = 5\n",
    "test_subject = 6"
   ]
  },
  {
   "cell_type": "code",
   "execution_count": 4,
   "metadata": {},
   "outputs": [],
   "source": [
    "files = []\n",
    "for filename in os.listdir(PATH):\n",
    "    files.append(filename)\n",
    "files = sorted(files, key = lambda x: (int(x.split('_')[1]),int(x.split('_')[2]), x.split('_')[4] ))\n",
    "files_train = list(filter(lambda x: int(x.split('_')[1]) not in  [val_subject, test_subject], files))\n",
    "files_val = list(filter(lambda x: int(x.split('_')[1]) == val_subject, files))\n",
    "files_test = list(filter(lambda x: int(x.split('_')[1])== test_subject, files))"
   ]
  },
  {
   "cell_type": "code",
   "execution_count": 7,
   "metadata": {},
   "outputs": [
    {
     "name": "stdout",
     "output_type": "stream",
     "text": [
      "335413 335413\n"
     ]
    }
   ],
   "source": [
    "X = []\n",
    "Y = []\n",
    "for i in range(0, len(files), 4):\n",
    "    x_time, x, y_time, y = files[i: i + 4]\n",
    "    x_time_df = pd.read_csv(PATH + x_time , header=None)\n",
    "    x_df = pd.read_csv(PATH + x , header=None)\n",
    "    x_combined = pd.concat([x_time_df, x_df], axis=1, ignore_index=True)\n",
    "    x_combined = x_combined.loc[range(1,len(x_combined), 4)].reset_index()  # down sampled the frequency\n",
    "    # print(x_combined.shape)\n",
    "    y_time_df = pd.read_csv(PATH + y_time , header=None)\n",
    "    y_df = pd.read_csv(PATH + y , header=None)\n",
    "    y_combined = pd.concat([y_time_df, y_df], axis=1, ignore_index=True)\n",
    "    # print(y_combined.shape)\n",
    "    train_df = pd.concat([x_combined, y_combined], axis=1, ignore_index=True)\n",
    "    train_df = train_df.drop(columns=[0, 1, 8])  # Dropping the time stamp\n",
    "    Y.extend(train_df[9].values)\n",
    "    X.extend(train_df.drop(columns=[9]).values)\n",
    "print(len(X), len(Y))\n"
   ]
  },
  {
   "attachments": {},
   "cell_type": "markdown",
   "metadata": {},
   "source": [
    "Concatinating features and timestamp"
   ]
  },
  {
   "cell_type": "code",
   "execution_count": 8,
   "metadata": {},
   "outputs": [],
   "source": [
    "from sklearn.model_selection import train_test_split\n",
    "X_train, X_test, y_train, y_test = train_test_split(X, Y,\n",
    "                                                    stratify=Y, \n",
    "                                                    test_size=0.2)"
   ]
  },
  {
   "cell_type": "code",
   "execution_count": 9,
   "metadata": {},
   "outputs": [],
   "source": [
    "X_train = np.array(X_train)\n",
    "y_train = np.array(y_train)"
   ]
  },
  {
   "cell_type": "code",
   "execution_count": 16,
   "metadata": {},
   "outputs": [
    {
     "name": "stdout",
     "output_type": "stream",
     "text": [
      "{0: 0.33310408866554775, 1: 6.074662682242145, 2: 4.590290132749418, 3: 1.6247850412962919}\n"
     ]
    }
   ],
   "source": [
    "weight  = compute_class_weight(class_weight = 'balanced', classes = np.unique(y_train), y = np.array(y_train))\n",
    "weight_dict = {}\n",
    "for index, weight in enumerate(weight):\n",
    "    weight_dict[index] = float(weight)\n",
    "print(weight_dict)"
   ]
  },
  {
   "cell_type": "code",
   "execution_count": 11,
   "metadata": {},
   "outputs": [
    {
     "data": {
      "text/plain": [
       "Counter({0: 201386, 3: 41287, 2: 14614, 1: 11043})"
      ]
     },
     "execution_count": 11,
     "metadata": {},
     "output_type": "execute_result"
    }
   ],
   "source": [
    "Counter(y_train)"
   ]
  },
  {
   "cell_type": "code",
   "execution_count": 17,
   "metadata": {},
   "outputs": [],
   "source": [
    "from sklearn.ensemble import RandomForestClassifier\n",
    "clf = RandomForestClassifier(n_estimators = 500, max_depth = 4, max_features = 3, bootstrap = True, random_state = 42, class_weight=weight_dict).fit(X_train, y_train)"
   ]
  },
  {
   "cell_type": "code",
   "execution_count": 18,
   "metadata": {},
   "outputs": [],
   "source": [
    "pred = clf.predict(X_test)"
   ]
  },
  {
   "cell_type": "code",
   "execution_count": 22,
   "metadata": {},
   "outputs": [
    {
     "name": "stdout",
     "output_type": "stream",
     "text": [
      "Predictions: Counter({3: 19219, 0: 18515, 1: 18167, 2: 11182}), Actual: Counter({0: 50347, 3: 10322, 2: 3653, 1: 2761})\n"
     ]
    }
   ],
   "source": [
    "print(f'Predictions: {Counter(pred)}, Actual: {Counter(y_test)}')"
   ]
  },
  {
   "cell_type": "code",
   "execution_count": 20,
   "metadata": {},
   "outputs": [
    {
     "name": "stdout",
     "output_type": "stream",
     "text": [
      "              precision    recall  f1-score   support\n",
      "\n",
      "           0       0.85      0.31      0.46     50347\n",
      "           1       0.10      0.63      0.17      2761\n",
      "           2       0.21      0.63      0.31      3653\n",
      "           3       0.20      0.36      0.25     10322\n",
      "\n",
      "    accuracy                           0.35     67083\n",
      "   macro avg       0.34      0.48      0.30     67083\n",
      "weighted avg       0.68      0.35      0.41     67083\n",
      "\n"
     ]
    }
   ],
   "source": [
    "print(classification_report(y_true=y_test, y_pred=pred))"
   ]
  },
  {
   "cell_type": "code",
   "execution_count": null,
   "metadata": {},
   "outputs": [],
   "source": []
  }
 ],
 "metadata": {
  "kernelspec": {
   "display_name": "base",
   "language": "python",
   "name": "python3"
  },
  "language_info": {
   "codemirror_mode": {
    "name": "ipython",
    "version": 3
   },
   "file_extension": ".py",
   "mimetype": "text/x-python",
   "name": "python",
   "nbconvert_exporter": "python",
   "pygments_lexer": "ipython3",
   "version": "3.9.7"
  },
  "orig_nbformat": 4
 },
 "nbformat": 4,
 "nbformat_minor": 2
}
