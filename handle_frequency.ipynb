{
 "cells": [
  {
   "cell_type": "code",
   "execution_count": 1,
   "metadata": {},
   "outputs": [],
   "source": [
    "import numpy as np\n",
    "import pandas as pd\n",
    "from sklearn.metrics import classification_report\n",
    "from sklearn.metrics import confusion_matrix\n",
    "import os\n",
    "from collections import Counter\n",
    "from sklearn.utils.class_weight import compute_class_weight\n",
    "import torch\n",
    "from sklearn.metrics import classification_report\n",
    "from sklearn.metrics import confusion_matrix\n",
    "from torch.utils.data import Dataset, DataLoader"
   ]
  },
  {
   "attachments": {},
   "cell_type": "markdown",
   "metadata": {},
   "source": [
    "Taking a sample Input to test frequency"
   ]
  },
  {
   "cell_type": "code",
   "execution_count": 61,
   "metadata": {},
   "outputs": [],
   "source": [
    "train_timestamp = \"D:/NCSU/spring_2023/Neural Networks/terrain_prediction/TrainingData/subject_001_02__x_time.csv\"\n",
    "train_feature = \"D:/NCSU/spring_2023/Neural Networks/terrain_prediction/TrainingData/subject_001_02__x.csv\"\n",
    "test_timestamp = \"D:/NCSU/spring_2023/Neural Networks/terrain_prediction/TrainingData/subject_001_02__y_time.csv\"\n",
    "test_labels = \"D:/NCSU/spring_2023/Neural Networks/terrain_prediction/TrainingData/subject_001_02__y.csv\""
   ]
  },
  {
   "cell_type": "code",
   "execution_count": 75,
   "metadata": {},
   "outputs": [],
   "source": [
    "#X_features\n",
    "x_time_df = pd.read_csv(train_timestamp, header=None)\n",
    "x_time_df.astype('float64')\n",
    "x_df = pd.read_csv(train_feature, header=None)\n",
    "x_combined = pd.concat([x_time_df, x_df], axis=1, ignore_index=True)\n",
    "x_combined = x_combined.rename({0:'timestamp'}, axis='columns')\n",
    "x_combined.set_index('timestamp', inplace=True)\n",
    "\n",
    "#Y_features\n",
    "y_time_df = pd.read_csv(test_timestamp , header=None)\n",
    "y_time_df.astype('float64')\n",
    "y_df = pd.read_csv(test_labels, header=None)\n",
    "y_combined = pd.concat([y_time_df, y_df], axis=1, ignore_index=True)\n",
    "y_combined = y_combined.rename({0:'timestamp'}, axis='columns')\n",
    "y_combined.set_index('timestamp', inplace=True)"
   ]
  },
  {
   "attachments": {},
   "cell_type": "markdown",
   "metadata": {},
   "source": [
    "Use Nearest timestamp sample to assign the label"
   ]
  },
  {
   "cell_type": "code",
   "execution_count": 77,
   "metadata": {},
   "outputs": [
    {
     "data": {
      "text/plain": [
       "70172"
      ]
     },
     "execution_count": 77,
     "metadata": {},
     "output_type": "execute_result"
    }
   ],
   "source": [
    "combined = pd.merge_asof(left=x_combined, right=y_combined, left_index=True, right_index = True, direction='nearest')"
   ]
  },
  {
   "cell_type": "code",
   "execution_count": 78,
   "metadata": {},
   "outputs": [
    {
     "data": {
      "text/plain": [
       "array([[ 1.726654e+00,  9.619981e+00,  1.723327e+00, -1.996891e-03,\n",
       "         6.750226e-02,  0.000000e+00],\n",
       "       [ 2.225759e+00,  9.493385e+00,  1.782374e+00,  8.556650e-03,\n",
       "         2.933330e-02,  0.000000e+00],\n",
       "       [ 2.010621e+00,  9.481603e+00,  1.770000e+00, -4.651043e-03,\n",
       "         1.009082e-03,  0.000000e+00],\n",
       "       ...,\n",
       "       [ 4.035121e+00,  8.696340e+00,  3.040610e+00, -2.531522e-02,\n",
       "         2.466749e-02,  0.000000e+00],\n",
       "       [ 4.013900e+00,  8.729596e+00,  3.006278e+00, -1.408438e-02,\n",
       "         2.854353e-03,  0.000000e+00],\n",
       "       [ 3.631926e+00,  8.440222e+00,  3.063185e+00,  3.863595e-03,\n",
       "        -2.551200e-02,  0.000000e+00]])"
      ]
     },
     "execution_count": 78,
     "metadata": {},
     "output_type": "execute_result"
    }
   ],
   "source": []
  },
  {
   "cell_type": "code",
   "execution_count": null,
   "metadata": {},
   "outputs": [],
   "source": []
  }
 ],
 "metadata": {
  "kernelspec": {
   "display_name": "base",
   "language": "python",
   "name": "python3"
  },
  "language_info": {
   "codemirror_mode": {
    "name": "ipython",
    "version": 3
   },
   "file_extension": ".py",
   "mimetype": "text/x-python",
   "name": "python",
   "nbconvert_exporter": "python",
   "pygments_lexer": "ipython3",
   "version": "3.9.7"
  },
  "orig_nbformat": 4
 },
 "nbformat": 4,
 "nbformat_minor": 2
}
